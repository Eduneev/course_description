{
 "cells": [
  {
   "cell_type": "code",
   "execution_count": 33,
   "metadata": {
    "collapsed": true
   },
   "outputs": [],
   "source": [
    "import pandas as pd\n",
    "import math"
   ]
  },
  {
   "cell_type": "code",
   "execution_count": 34,
   "metadata": {
    "collapsed": true
   },
   "outputs": [],
   "source": [
    "cd_csv = \"descriptions_new/combined.csv\"\n",
    "products = \"wc-product-export.csv\""
   ]
  },
  {
   "cell_type": "code",
   "execution_count": 35,
   "metadata": {
    "collapsed": true
   },
   "outputs": [],
   "source": [
    "cd = pd.read_csv(cd_csv)\n",
    "prod = pd.read_csv(products)"
   ]
  },
  {
   "cell_type": "code",
   "execution_count": 36,
   "metadata": {},
   "outputs": [
    {
     "data": {
      "text/plain": [
       "'<button class=\"single_add_to_cart_button button alt\" style=\"font-family: \\'Open Sans\\'; font-size: .8em;\" onclick=\"window.open(\\'https://enlp.in/login/index.php\\', \\'_blank\\'); return false;\">View Sample Course</button>\\n <strong>Username</strong>: <i>v2lbt-mechanics</i>; <strong>Password</strong>: <i>v2lbt-mechanics</i>\\n\\n<strong>KME402</strong> paper code(s) are comprehensively covered in <strong>AKTU-Engineering Mechanics</strong> course.\\nThe Topic-wise syllabus coverage for each paper code is detailed in <a href=\"https://cc.2learn.in/btech\" target=\"_blank\">Curriculum Coverage Plan (CCP)</a>.\\n\\n[tabby title=KME402]\\n\\nAKTU offers this course.\\n<ul><li><strong>125 Video Learning Outcomes</strong> attained across<strong> 49 topics</strong> taught over <strong>34 hours</strong> of instruction.</li><li>Total duration of course: <strong>34 hours</strong></li></ul>[tabbyending]\\n\\nV2L courses enjoy a finely granulated hierarchy organised by Units, Sections, Topics, Video Learning Modules (VLM) and Concept Learning Outcomes (CLO).\\n\\nA CLO is a statement of what a student should expect to recall, solve or perform upon its completion.\\n\\nCourse Faculty carry several years of teaching and industry experience. The lessons are taught systematically, and delivered in simple, lucid language and manner. Courses are designed to inculcate a clear understanding of subject-concepts and enable students to gain theoretical and practical insights.\\n'"
      ]
     },
     "execution_count": 36,
     "metadata": {},
     "output_type": "execute_result"
    }
   ],
   "source": [
    "cd.iloc[0]['Description']"
   ]
  },
  {
   "cell_type": "code",
   "execution_count": 37,
   "metadata": {},
   "outputs": [
    {
     "name": "stdout",
     "output_type": "stream",
     "text": [
      "IKGPTU - Surveying\n",
      "0\n",
      "JCBUST - Surveying\n",
      "0\n",
      "AKTU - Soil Mechanics\n",
      "0\n",
      "DBATU - Soil Mechanics\n",
      "0\n"
     ]
    }
   ],
   "source": [
    "\n",
    "count = 0\n",
    "for idx, row in cd.iterrows():\n",
    "    name = row['University'] + ' - ' + row['Subject']\n",
    "    s = prod[prod['Name'] == name]\n",
    "    if len(s) != 1:\n",
    "        print(name)\n",
    "        print(len(s))\n",
    "    else:\n",
    "        prod.loc[s.index, 'Description'] = row['Description']\n"
   ]
  },
  {
   "cell_type": "code",
   "execution_count": 38,
   "metadata": {
    "collapsed": true
   },
   "outputs": [],
   "source": [
    "prod.to_csv('wc-product-output.csv', index=False)"
   ]
  },
  {
   "cell_type": "code",
   "execution_count": null,
   "metadata": {
    "collapsed": true
   },
   "outputs": [],
   "source": []
  }
 ],
 "metadata": {
  "kernelspec": {
   "display_name": "Python 3",
   "language": "python",
   "name": "python3"
  },
  "language_info": {
   "codemirror_mode": {
    "name": "ipython",
    "version": 3
   },
   "file_extension": ".py",
   "mimetype": "text/x-python",
   "name": "python",
   "nbconvert_exporter": "python",
   "pygments_lexer": "ipython3",
   "version": "3.6.1"
  }
 },
 "nbformat": 4,
 "nbformat_minor": 2
}
